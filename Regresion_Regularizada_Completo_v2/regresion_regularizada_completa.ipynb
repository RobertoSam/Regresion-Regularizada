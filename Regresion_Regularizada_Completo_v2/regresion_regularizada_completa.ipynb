{
 "cells": [
  {
   "cell_type": "markdown",
   "id": "abb24116",
   "metadata": {},
   "source": [
    "## 📚 Origen de los nombres: Ridge, Lasso y Elastic Net\n",
    "\n",
    "Además de su base matemática, los nombres de estos modelos tienen un origen interesante:\n",
    "\n",
    "### 🟦 Ridge Regression\n",
    "- **“Ridge”** significa *cresta*.\n",
    "- Hace alusión a la forma de la penalización cuadrática \\( \\|\\beta\\|_2^2 \\), que crea una barrera o “colina” alrededor del origen.\n",
    "- El nombre fue propuesto por **Hoerl y Kennard (1970)** para reflejar cómo la penalización estabiliza la superficie de solución.\n",
    "\n",
    "---\n",
    "\n",
    "### ✂️ Lasso\n",
    "- Acrónimo de: **Least Absolute Shrinkage and Selection Operator**.\n",
    "- Propuesto por **Robert Tibshirani (1996)**.\n",
    "- “Lasso” también significa *lazo* en inglés, y sugiere que el modelo “ata” algunos coeficientes a cero.\n",
    "- Metáfora visual: el lazo tira de los coeficientes hacia los ejes.\n",
    "\n",
    "---\n",
    "\n",
    "### 🔗 Elastic Net\n",
    "- Introducido por **Zou y Hastie (2005)**.\n",
    "- El nombre simboliza una **“red elástica”** que mezcla L1 (Lasso) y L2 (Ridge).\n",
    "- Imita una malla flexible que combina contracción y selección de variables, ideal cuando hay muchas variables correlacionadas.\n"
   ]
  }
 ],
 "metadata": {
  "kernelspec": {
   "display_name": "Python 3",
   "language": "python",
   "name": "python3"
  },
  "language_info": {
   "name": "python",
   "version": "3.11"
  }
 },
 "nbformat": 4,
 "nbformat_minor": 5
}
