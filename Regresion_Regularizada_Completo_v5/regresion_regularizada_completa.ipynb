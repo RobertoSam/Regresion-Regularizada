{
 "cells": [
  {
   "cell_type": "markdown",
   "id": "d184d70d",
   "metadata": {},
   "source": [
    "# 📘 Regresión Regularizada: Teoría, Comparación y Aplicaciones\n",
    "\n",
    "Este cuaderno reúne el desarrollo completo de regresiones Ridge, Lasso y Elastic Net. Está diseñado como una guía didáctica para estudiantes de posgrado y profesionales de ciencia de datos.\n",
    "\n",
    "Incluye teoría, visualización geométrica, comparación de coeficientes, evaluación estadística y aplicación a datos reales."
   ]
  },
  {
   "cell_type": "markdown",
   "id": "b736a6c3",
   "metadata": {},
   "source": [
    "## 🔍 ¿Por qué regularizar?\n",
    "- La regresión lineal clásica (OLS) puede tener alta varianza si hay colinealidad o muchas variables.\n",
    "- Regularizar significa **penalizar los coeficientes grandes** para reducir sobreajuste.\n",
    "- Esto introduce sesgo, pero mejora la generalización.\n",
    "\n",
    "### Gráfico: Dispersión de predicciones\n",
    "Veremos cómo OLS produce predicciones inestables comparado con modelos regularizados."
   ]
  },
  {
   "cell_type": "markdown",
   "id": "d211e249",
   "metadata": {},
   "source": [
    "## 🧱 Ridge Regression\n",
    "\n",
    "La regresión Ridge aplica una penalización L2 sobre los coeficientes para evitar sobreajuste.\n",
    "\n",
    "**Ecuación objetivo:**\n",
    "\n",
    "\\[\n",
    "\\min_\\beta \\sum_{i=1}^n (y_i - X_i^T \\beta)^2 + \\lambda \\sum_{j=1}^p \\beta_j^2\n",
    "\\]\n",
    "\n",
    "- El parámetro \\( \\lambda \\) controla la fuerza de la penalización.\n",
    "- Ridge no realiza selección de variables (coeficientes ≠ 0), pero **reduce su magnitud**.\n",
    "\n",
    "**Geometría:** la región de restricción es una esfera → mantiene todos los coeficientes.\n"
   ]
  },
  {
   "cell_type": "code",
   "execution_count": null,
   "id": "a6697dd9",
   "metadata": {},
   "outputs": [],
   "source": [
    "from sklearn.linear_model import Ridge\n",
    "from sklearn.datasets import load_diabetes\n",
    "from sklearn.model_selection import train_test_split\n",
    "from sklearn.preprocessing import StandardScaler\n",
    "from sklearn.metrics import mean_squared_error, r2_score\n",
    "import numpy as np\n",
    "import matplotlib.pyplot as plt\n",
    "\n",
    "# Cargar datos\n",
    "X, y = load_diabetes(return_X_y=True)\n",
    "X_train, X_test, y_train, y_test = train_test_split(X, y, random_state=0)\n",
    "\n",
    "# Escalado\n",
    "scaler = StandardScaler()\n",
    "X_train_scaled = scaler.fit_transform(X_train)\n",
    "X_test_scaled = scaler.transform(X_test)\n",
    "\n",
    "# Modelo Ridge\n",
    "ridge = Ridge(alpha=1.0)\n",
    "ridge.fit(X_train_scaled, y_train)\n",
    "\n",
    "# Predicción\n",
    "y_pred_ridge = ridge.predict(X_test_scaled)\n",
    "\n",
    "# Evaluación\n",
    "print(f\"RMSE: {np.sqrt(mean_squared_error(y_test, y_pred_ridge)):.2f}\")\n",
    "print(f\"R²   : {r2_score(y_test, y_pred_ridge):.2f}\")"
   ]
  },
  {
   "cell_type": "markdown",
   "id": "0eef159f",
   "metadata": {},
   "source": [
    "### 🔍 Visualización de coeficientes\n",
    "\n",
    "Podemos observar cómo la penalización L2 suaviza los coeficientes.\n"
   ]
  },
  {
   "cell_type": "code",
   "execution_count": null,
   "id": "af3829bb",
   "metadata": {},
   "outputs": [],
   "source": [
    "plt.figure(figsize=(10, 5))\n",
    "plt.title(\"Coeficientes estimados por Ridge\")\n",
    "plt.xlabel(\"Índice de variable\")\n",
    "plt.ylabel(\"Valor del coeficiente\")\n",
    "plt.grid(True)\n",
    "plt.tight_layout()\n",
    "plt.show()\n",
    "plt.title('Coeficientes del modelo Ridge')\n",
    "plt.xlabel('Índice de variable')\n",
    "plt.ylabel('Valor del coeficiente')\n",
    "plt.grid(True)\n",
    "plt.show()"
   ]
  },
  {
   "cell_type": "markdown",
   "id": "e04592ed",
   "metadata": {},
   "source": [
    "### ✅ Evaluación de supuestos\n",
    "\n",
    "- Analizamos los residuos para ver si el modelo cumple con los supuestos clásicos.\n"
   ]
  },
  {
   "cell_type": "code",
   "execution_count": null,
   "id": "ff0ca7fb",
   "metadata": {},
   "outputs": [],
   "source": [
    "residuos = y_test - y_pred_ridge\n",
    "\n",
    "plt.figure(figsize=(12, 5))\n",
    "\n",
    "plt.subplot(1, 2, 1)\n",
    "plt.scatter(y_pred_ridge, residuos)\n",
    "plt.axhline(0, color='red', linestyle='--')\n",
    "plt.xlabel(\"Predicción\")\n",
    "plt.ylabel(\"Residuo\")\n",
    "plt.title(\"Residuos vs Predicción\")\n",
    "plt.grid(True)\n",
    "\n",
    "plt.subplot(1, 2, 2)\n",
    "import scipy.stats as stats\n",
    "stats.probplot(residuos, dist=\"norm\", plot=plt)\n",
    "plt.title(\"Q-Q plot de residuos\")\n",
    "\n",
    "plt.tight_layout()\n",
    "plt.show()"
   ]
  },
  {
   "cell_type": "markdown",
   "id": "5173a999",
   "metadata": {},
   "source": [
    "## 🧱 Ridge Regression\n",
    "\n",
    "La regresión Ridge aplica una penalización L2 sobre los coeficientes para evitar sobreajuste.\n",
    "\n",
    "**Ecuación objetivo:**\n",
    "\n",
    "\\[\n",
    "\\min_\\beta \\sum_{i=1}^n (y_i - X_i^T \\beta)^2 + \\lambda \\sum_{j=1}^p \\beta_j^2\n",
    "\\]\n",
    "\n",
    "- El parámetro \\( \\lambda \\) controla la fuerza de la penalización.\n",
    "- Ridge no realiza selección de variables (coeficientes ≠ 0), pero **reduce su magnitud**.\n",
    "\n",
    "**Geometría:** la región de restricción es una esfera → mantiene todos los coeficientes.\n"
   ]
  },
  {
   "cell_type": "code",
   "execution_count": null,
   "id": "a8eeabda",
   "metadata": {},
   "outputs": [],
   "source": [
    "from sklearn.linear_model import Ridge\n",
    "from sklearn.datasets import load_diabetes\n",
    "from sklearn.model_selection import train_test_split\n",
    "from sklearn.preprocessing import StandardScaler\n",
    "from sklearn.metrics import mean_squared_error, r2_score\n",
    "import numpy as np\n",
    "import matplotlib.pyplot as plt\n",
    "\n",
    "# Cargar datos\n",
    "X, y = load_diabetes(return_X_y=True)\n",
    "X_train, X_test, y_train, y_test = train_test_split(X, y, random_state=0)\n",
    "\n",
    "# Escalado\n",
    "scaler = StandardScaler()\n",
    "X_train_scaled = scaler.fit_transform(X_train)\n",
    "X_test_scaled = scaler.transform(X_test)\n",
    "\n",
    "# Modelo Ridge\n",
    "ridge = Ridge(alpha=1.0)\n",
    "ridge.fit(X_train_scaled, y_train)\n",
    "\n",
    "# Predicción\n",
    "y_pred_ridge = ridge.predict(X_test_scaled)\n",
    "\n",
    "# Evaluación\n",
    "print(f\"RMSE: {np.sqrt(mean_squared_error(y_test, y_pred_ridge)):.2f}\")\n",
    "print(f\"R²   : {r2_score(y_test, y_pred_ridge):.2f}\")"
   ]
  },
  {
   "cell_type": "markdown",
   "id": "50d3b271",
   "metadata": {},
   "source": [
    "### 🔍 Visualización de coeficientes\n",
    "\n",
    "Podemos observar cómo la penalización L2 suaviza los coeficientes.\n"
   ]
  },
  {
   "cell_type": "code",
   "execution_count": null,
   "id": "086359b8",
   "metadata": {},
   "outputs": [],
   "source": [
    "plt.figure(figsize=(10, 5))\n",
    "plt.title(\"Coeficientes estimados por Ridge\")\n",
    "plt.xlabel(\"Índice de variable\")\n",
    "plt.ylabel(\"Valor del coeficiente\")\n",
    "plt.grid(True)\n",
    "plt.tight_layout()\n",
    "plt.show()\n",
    "plt.title('Coeficientes del modelo Ridge')\n",
    "plt.xlabel('Índice de variable')\n",
    "plt.ylabel('Valor del coeficiente')\n",
    "plt.grid(True)\n",
    "plt.show()"
   ]
  },
  {
   "cell_type": "markdown",
   "id": "c6dbf211",
   "metadata": {},
   "source": [
    "### ✅ Evaluación de supuestos\n",
    "\n",
    "- Analizamos los residuos para ver si el modelo cumple con los supuestos clásicos.\n"
   ]
  },
  {
   "cell_type": "code",
   "execution_count": null,
   "id": "a0889f9b",
   "metadata": {},
   "outputs": [],
   "source": [
    "residuos = y_test - y_pred_ridge\n",
    "\n",
    "plt.figure(figsize=(12, 5))\n",
    "\n",
    "plt.subplot(1, 2, 1)\n",
    "plt.scatter(y_pred_ridge, residuos)\n",
    "plt.axhline(0, color='red', linestyle='--')\n",
    "plt.xlabel(\"Predicción\")\n",
    "plt.ylabel(\"Residuo\")\n",
    "plt.title(\"Residuos vs Predicción\")\n",
    "plt.grid(True)\n",
    "\n",
    "plt.subplot(1, 2, 2)\n",
    "import scipy.stats as stats\n",
    "stats.probplot(residuos, dist=\"norm\", plot=plt)\n",
    "plt.title(\"Q-Q plot de residuos\")\n",
    "\n",
    "plt.tight_layout()\n",
    "plt.show()"
   ]
  },
  {
   "cell_type": "markdown",
   "id": "1394286f",
   "metadata": {},
   "source": [
    "## ✂️ Lasso Regression\n",
    "\n",
    "La regresión Lasso utiliza una penalización L1 que promueve la **esparsidad** en los coeficientes.\n",
    "\n",
    "**Ecuación objetivo:**\n",
    "\n",
    "\\[\n",
    "\\min_\\beta \\sum_{i=1}^n (y_i - X_i^T \\beta)^2 + \\lambda \\sum_{j=1}^p |\\beta_j|\n",
    "\\]\n",
    "\n",
    "- Algunos coeficientes se vuelven exactamente cero → selección automática de variables.\n",
    "- Útil cuando se sospecha que muchas variables no aportan valor.\n",
    "\n",
    "**Geometría:** la región de penalización tiene forma de rombo → es más probable que la solución caiga en un eje.\n"
   ]
  },
  {
   "cell_type": "code",
   "execution_count": null,
   "id": "5cd23290",
   "metadata": {},
   "outputs": [],
   "source": [
    "from sklearn.linear_model import Lasso\n",
    "\n",
    "# Modelo Lasso\n",
    "lasso = Lasso(alpha=0.1, max_iter=10000)\n",
    "lasso.fit(X_train_scaled, y_train)\n",
    "\n",
    "# Predicción\n",
    "y_pred_lasso = lasso.predict(X_test_scaled)\n",
    "\n",
    "# Evaluación\n",
    "print(f\"RMSE: {np.sqrt(mean_squared_error(y_test, y_pred_lasso)):.2f}\")\n",
    "print(f\"R²   : {r2_score(y_test, y_pred_lasso):.2f}\")"
   ]
  },
  {
   "cell_type": "markdown",
   "id": "d67cdee2",
   "metadata": {},
   "source": [
    "### 🔍 Coeficientes estimados por Lasso\n",
    "\n",
    "Observa cómo algunos coeficientes son exactamente cero.\n"
   ]
  },
  {
   "cell_type": "code",
   "execution_count": null,
   "id": "0a44700f",
   "metadata": {},
   "outputs": [],
   "source": [
    "plt.figure(figsize=(10, 5))\n",
    "plt.title(\"Coeficientes estimados por Lasso\")\n",
    "plt.xlabel(\"Índice de variable\")\n",
    "plt.ylabel(\"Valor del coeficiente\")\n",
    "plt.grid(True)\n",
    "plt.tight_layout()\n",
    "plt.show()"
   ]
  },
  {
   "cell_type": "markdown",
   "id": "8410b20e",
   "metadata": {},
   "source": [
    "### ✅ Evaluación de supuestos (Lasso)\n",
    "\n",
    "- Analizamos los residuos para revisar la normalidad y homocedasticidad.\n"
   ]
  },
  {
   "cell_type": "code",
   "execution_count": null,
   "id": "a30f52c8",
   "metadata": {},
   "outputs": [],
   "source": [
    "residuos_lasso = y_test - y_pred_lasso\n",
    "\n",
    "plt.figure(figsize=(12, 5))\n",
    "\n",
    "plt.subplot(1, 2, 1)\n",
    "plt.scatter(y_pred_lasso, residuos_lasso)\n",
    "plt.axhline(0, color='red', linestyle='--')\n",
    "plt.xlabel(\"Predicción\")\n",
    "plt.ylabel(\"Residuo\")\n",
    "plt.title(\"Residuos vs Predicción\")\n",
    "plt.grid(True)\n",
    "\n",
    "plt.subplot(1, 2, 2)\n",
    "import scipy.stats as stats\n",
    "stats.probplot(residuos_lasso, dist=\"norm\", plot=plt)\n",
    "plt.title(\"Q-Q plot de residuos\")\n",
    "\n",
    "plt.tight_layout()\n",
    "plt.show()"
   ]
  },
  {
   "cell_type": "markdown",
   "id": "88297d04",
   "metadata": {},
   "source": [
    "## 🔗 Elastic Net Regression\n",
    "\n",
    "Elastic Net combina las penalizaciones de Ridge (L2) y Lasso (L1):\n",
    "\n",
    "\\[\n",
    "\\min_\\beta \\sum_{i=1}^n (y_i - X_i^T \\beta)^2 + \\lambda \\left[ \\alpha \\sum_j |\\beta_j| + (1 - \\alpha) \\sum_j \\beta_j^2 \\right]\n",
    "\\]\n",
    "\n",
    "- El parámetro `alpha` (\\( \\alpha \\)) controla la mezcla:\n",
    "  - \\( \\alpha = 1 \\) → Lasso\n",
    "  - \\( \\alpha = 0 \\) → Ridge\n",
    "\n",
    "- Excelente opción cuando:\n",
    "  - Hay muchas variables correlacionadas\n",
    "  - Hay sospecha de sparsity parcial\n",
    "\n",
    "**Geometría:** región de penalización intermedia entre círculo y rombo.\n"
   ]
  },
  {
   "cell_type": "code",
   "execution_count": null,
   "id": "b8b99da0",
   "metadata": {},
   "outputs": [],
   "source": [
    "from sklearn.linear_model import ElasticNet\n",
    "\n",
    "# Modelo Elastic Net\n",
    "elastic = ElasticNet(alpha=0.1, l1_ratio=0.5, max_iter=10000)\n",
    "elastic.fit(X_train_scaled, y_train)\n",
    "\n",
    "# Predicción\n",
    "y_pred_elastic = elastic.predict(X_test_scaled)\n",
    "\n",
    "# Evaluación\n",
    "print(f\"RMSE: {np.sqrt(mean_squared_error(y_test, y_pred_elastic)):.2f}\")\n",
    "print(f\"R²   : {r2_score(y_test, y_pred_elastic):.2f}\")"
   ]
  },
  {
   "cell_type": "markdown",
   "id": "1bb3af0a",
   "metadata": {},
   "source": [
    "### 🔍 Coeficientes de Elastic Net\n",
    "\n",
    "Tiene la ventaja de combinar la estabilidad de Ridge con la selección de variables de Lasso.\n"
   ]
  },
  {
   "cell_type": "code",
   "execution_count": null,
   "id": "e993acaf",
   "metadata": {},
   "outputs": [],
   "source": [
    "plt.figure(figsize=(10, 5))\n",
    "plt.title(\"Coeficientes estimados por Elastic Net\")\n",
    "plt.xlabel(\"Índice de variable\")\n",
    "plt.ylabel(\"Valor del coeficiente\")\n",
    "plt.grid(True)\n",
    "plt.tight_layout()\n",
    "plt.show()"
   ]
  },
  {
   "cell_type": "markdown",
   "id": "d0750201",
   "metadata": {},
   "source": [
    "### ✅ Evaluación de supuestos (Elastic Net)\n"
   ]
  },
  {
   "cell_type": "code",
   "execution_count": null,
   "id": "2cc5b87d",
   "metadata": {},
   "outputs": [],
   "source": [
    "residuos_elastic = y_test - y_pred_elastic\n",
    "\n",
    "plt.figure(figsize=(12, 5))\n",
    "\n",
    "plt.subplot(1, 2, 1)\n",
    "plt.scatter(y_pred_elastic, residuos_elastic)\n",
    "plt.axhline(0, color='red', linestyle='--')\n",
    "plt.xlabel(\"Predicción\")\n",
    "plt.ylabel(\"Residuo\")\n",
    "plt.title(\"Residuos vs Predicción\")\n",
    "plt.grid(True)\n",
    "\n",
    "plt.subplot(1, 2, 2)\n",
    "import scipy.stats as stats\n",
    "stats.probplot(residuos_elastic, dist=\"norm\", plot=plt)\n",
    "plt.title(\"Q-Q plot de residuos\")\n",
    "\n",
    "plt.tight_layout()\n",
    "plt.show()"
   ]
  },
  {
   "cell_type": "markdown",
   "id": "29f5088d",
   "metadata": {},
   "source": [
    "## 📊 Comparación final entre Ridge, Lasso y Elastic Net\n",
    "\n",
    "Evaluamos los modelos usando las mismas métricas sobre el mismo conjunto de prueba.\n"
   ]
  },
  {
   "cell_type": "code",
   "execution_count": null,
   "id": "91a93825",
   "metadata": {},
   "outputs": [],
   "source": [
    "# Métricas\n",
    "modelos = ['Ridge', 'Lasso', 'Elastic Net']\n",
    "r2_scores = [\n",
    "    r2_score(y_test, y_pred_ridge),\n",
    "    r2_score(y_test, y_pred_lasso),\n",
    "    r2_score(y_test, y_pred_elastic)\n",
    "]\n",
    "rmse_scores = [\n",
    "    np.sqrt(mean_squared_error(y_test, y_pred_ridge)),\n",
    "    np.sqrt(mean_squared_error(y_test, y_pred_lasso)),\n",
    "    np.sqrt(mean_squared_error(y_test, y_pred_elastic))\n",
    "]\n",
    "n_coefs = [\n",
    "    np.sum(ridge.coef_ != 0),\n",
    "    np.sum(lasso.coef_ != 0),\n",
    "    np.sum(elastic.coef_ != 0)\n",
    "]\n",
    "\n",
    "import pandas as pd\n",
    "tabla = pd.DataFrame({\n",
    "    \"Modelo\": modelos,\n",
    "    \"R²\": np.round(r2_scores, 3),\n",
    "    \"RMSE\": np.round(rmse_scores, 2),\n",
    "    \"Nº de Coef. ≠ 0\": n_coefs\n",
    "})\n",
    "tabla"
   ]
  },
  {
   "cell_type": "markdown",
   "id": "496a50ff",
   "metadata": {},
   "source": [
    "### 🔍 Visualización comparativa de coeficientes\n",
    "\n",
    "Observa cómo cada técnica trata la magnitud y cantidad de variables.\n"
   ]
  },
  {
   "cell_type": "code",
   "execution_count": null,
   "id": "a957a4f5",
   "metadata": {},
   "outputs": [],
   "source": [
    "plt.figure(figsize=(12, 5))\n",
    "plt.plot(ridge.coef_, label='Ridge')\n",
    "plt.plot(lasso.coef_, label='Lasso')\n",
    "plt.plot(elastic.coef_, label='Elastic Net')\n",
    "plt.title(\"Comparación de coeficientes\")\n",
    "plt.xlabel(\"Índice de variable\")\n",
    "plt.ylabel(\"Valor del coeficiente\")\n",
    "plt.axhline(0, color='black', linestyle='--')\n",
    "plt.legend()\n",
    "plt.grid(True)\n",
    "plt.tight_layout()\n",
    "plt.show()"
   ]
  },
  {
   "cell_type": "markdown",
   "id": "c4540f8b",
   "metadata": {},
   "source": [
    "## ✅ Conclusiones\n",
    "\n",
    "- **Ridge** mantiene todos los coeficientes pequeños → útil con multicolinealidad.\n",
    "- **Lasso** realiza selección de variables automática.\n",
    "- **Elastic Net** balancea ambos efectos, útil con muchas variables correlacionadas.\n",
    "\n",
    "Este análisis muestra cómo cada técnica responde a los mismos datos de forma diferente, y cómo elegir entre ellas depende de los objetivos: estabilidad, interpretabilidad o predicción.\n"
   ]
  },
  {
   "cell_type": "markdown",
   "id": "c83d092e",
   "metadata": {},
   "source": [
    "## 🕰️ Historia de los métodos\n",
    "\n",
    "| Método        | Año  | Creador(es)             | Motivación principal                          |\n",
    "|---------------|------|--------------------------|------------------------------------------------|\n",
    "| **Ridge**     | 1970 | Hoerl & Kennard          | Estabilizar estimaciones con colinealidad     |\n",
    "| **Lasso**     | 1996 | Robert Tibshirani        | Selección automática de variables             |\n",
    "| **Elastic Net** | 2005 | Zou & Hastie            | Combinar estabilidad y esparsidad             |\n",
    "\n",
    "Estos métodos marcaron hitos importantes en la estadística moderna y aprendizaje automático.\n"
   ]
  },
  {
   "cell_type": "markdown",
   "id": "c768d8f5",
   "metadata": {},
   "source": [
    "## 🧾 Origen de los nombres\n",
    "\n",
    "- **Ridge**: “Cresta” que estabiliza soluciones cuando hay colinealidad.\n",
    "- **Lasso**: Acrónimo de *Least Absolute Shrinkage and Selection Operator*, también sugiere un lazo que ata coeficientes a cero.\n",
    "- **Elastic Net**: Red elástica que combina las propiedades de Ridge y Lasso.\n",
    "\n",
    "Estos nombres reflejan tanto la geometría como la intención estadística de cada método.\n"
   ]
  }
 ],
 "metadata": {
  "kernelspec": {
   "display_name": "Python 3",
   "language": "python",
   "name": "python3"
  },
  "language_info": {
   "name": "python",
   "version": "3.11"
  }
 },
 "nbformat": 4,
 "nbformat_minor": 5
}
