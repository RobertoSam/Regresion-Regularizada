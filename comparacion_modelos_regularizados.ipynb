# ============================================
# Comparación de Regresiones Regularizadas: Ridge, Lasso y Elastic Net
# ============================================
# Este código compara el comportamiento, coeficientes, rendimiento y supuestos
# de los modelos de regresión regularizada Ridge, Lasso y Elastic Net,
# usando el mismo conjunto de datos estandarizado.

# ============================================
# 1. Cargar y preparar datos
# ============================================

import numpy as np
import matplotlib.pyplot as plt
import seaborn as sns
from sklearn.datasets import load_diabetes
from sklearn.linear_model import Ridge, Lasso, ElasticNet
from sklearn.model_selection import train_test_split
from sklearn.preprocessing import StandardScaler
from sklearn.metrics import mean_squared_error, r2_score

# Cargar y dividir datos
X, y = load_diabetes(return_X_y=True)
X_train, X_test, y_train, y_test = train_test_split(X, y, random_state=0)

# Escalamiento
scaler = StandardScaler()
X_train_scaled = scaler.fit_transform(X_train)
X_test_scaled = scaler.transform(X_test)

# ============================================
# 2. Ajuste de modelos
# ============================================

ridge = Ridge(alpha=1.0).fit(X_train_scaled, y_train)
lasso = Lasso(alpha=0.1, max_iter=10000).fit(X_train_scaled, y_train)
enet = ElasticNet(alpha=0.1, l1_ratio=0.5, max_iter=10000).fit(X_train_scaled, y_train)

# Predicciones
y_pred_ridge = ridge.predict(X_test_scaled)
y_pred_lasso = lasso.predict(X_test_scaled)
y_pred_enet = enet.predict(X_test_scaled)

# Métricas de evaluación
def resumen(nombre, y_true, y_pred):
    rmse = np.sqrt(mean_squared_error(y_true, y_pred))
    r2 = r2_score(y_true, y_pred)
    print(f"{nombre} → RMSE: {rmse:.3f}, R²: {r2:.3f}")

resumen("Ridge", y_test, y_pred_ridge)
resumen("Lasso", y_test, y_pred_lasso)
resumen("Elastic Net", y_test, y_pred_enet)

# ============================================
# 3. Comparación de coeficientes
# ============================================

plt.figure(figsize=(10, 6))
plt.plot(ridge.coef_, label='Ridge')
plt.plot(lasso.coef_, label='Lasso')
plt.plot(enet.coef_, label='Elastic Net')
plt.axhline(0, color='gray', linestyle='--')
plt.xlabel("Índice de variable")
plt.ylabel("Coeficiente")
plt.title("Coeficientes estimados")
plt.legend()
plt.grid(True)
plt.tight_layout()
plt.show()

# ============================================
# 4. Número de coeficientes distintos de cero
# ============================================

print("\nCoef. distintos de cero:")
print("Ridge:", np.sum(ridge.coef_ != 0))
print("Lasso:", np.sum(lasso.coef_ != 0))
print("Elastic Net:", np.sum(enet.coef_ != 0))

# ============================================
# 5. Conclusiones generales
# ============================================

# - Ridge: mantiene todos los coeficientes → útil si todas las variables aportan
# - Lasso: selecciona un subconjunto de variables → útil para interpretabilidad
# - Elastic Net: balance entre selección y estabilidad → ideal con colinealidad

# ============================================
# 🕰️ Historia de los Métodos
# ============================================

# | Método        | Año  | Creador(es)             | Motivación principal                          |
# |---------------|------|--------------------------|------------------------------------------------|
# | Ridge         | 1970 | Hoerl & Kennard          | Estabilizar estimaciones con colinealidad     |
# | Lasso         | 1996 | Robert Tibshirani        | Selección automática de variables             |
# | Elastic Net   | 2005 | Zou & Hastie             | Combinar estabilidad y esparsidad             |

# Estos métodos marcaron hitos importantes en estadística moderna y machine learning.

# ============================================
# 🧾 Origen de los Nombres
# ============================================

# - Ridge: “Cresta” que estabiliza soluciones al suavizar la magnitud de los coeficientes
#          cuando hay colinealidad entre variables.
# - Lasso: Acrónimo de *Least Absolute Shrinkage and Selection Operator*, sugiere un lazo
#          que ata algunos coeficientes a cero, eliminándolos del modelo.
# - Elastic Net: Una “red elástica” que combina lo mejor de Ridge y Lasso: estabilidad y selección.
